{
  "nbformat": 4,
  "nbformat_minor": 0,
  "metadata": {
    "colab": {
      "provenance": [],
      "gpuType": "T4"
    },
    "kernelspec": {
      "name": "python3",
      "display_name": "Python 3"
    },
    "language_info": {
      "name": "python"
    },
    "accelerator": "GPU"
  },
  "cells": [
    {
      "cell_type": "code",
      "execution_count": null,
      "metadata": {
        "colab": {
          "base_uri": "https://localhost:8080/"
        },
        "id": "iag8bDhyRDCR",
        "outputId": "82a4a4d6-bc0e-4450-ec12-a74217f7aca9"
      },
      "outputs": [
        {
          "output_type": "stream",
          "name": "stdout",
          "text": [
            "Mounted at /content/drive\n"
          ]
        }
      ],
      "source": [
        "from google.colab import drive\n",
        "drive.mount('/content/drive')\n"
      ]
    },
    {
      "cell_type": "code",
      "source": [
        "model_path = '/content/drive/MyDrive/MSc_Project/Models/en_ner_bc5cdr_md/'\n",
        "# test model path\n",
        "import os\n",
        "if os.path.exists(model_path):\n",
        "    print(f\"model path exists: {model_path}\")\n",
        "else:\n",
        "    print(f\"model path dosen't exist: {model_path}\")"
      ],
      "metadata": {
        "colab": {
          "base_uri": "https://localhost:8080/"
        },
        "id": "4NzMeuEKR2cE",
        "outputId": "ccf81502-0db8-4fc3-a43f-49f136884de6"
      },
      "execution_count": null,
      "outputs": [
        {
          "output_type": "stream",
          "name": "stdout",
          "text": [
            "model path exists: /content/drive/MyDrive/MSc_Project/Models/en_ner_bc5cdr_md/\n"
          ]
        }
      ]
    },
    {
      "cell_type": "code",
      "source": [
        "import os\n",
        "import pandas as pd\n",
        "\n",
        "REPO_PATH = 'drive/MyDrive/MSc_Project'\n",
        "DATASET_PATH = os.path.join(REPO_PATH, 'Results/downstream/results_41lines_0.3ramdom.csv')\n",
        "\n",
        "# check if a path exists\n",
        "def check_path_and_file_details(path):\n",
        "    if os.path.exists(path):\n",
        "        print(f\"path exists: {path}\")\n",
        "        if path.endswith('.csv'):\n",
        "            try:\n",
        "                # Reading CSV Files\n",
        "                df = pd.read_csv(path)\n",
        "                num_rows, num_cols = df.shape\n",
        "                col_names = df.columns.tolist()\n",
        "                print(f\"the file has {num_rows} rows and {num_cols} cols\")\n",
        "                print(f\"the name of columns are: {col_names}\")\n",
        "            except Exception as e:\n",
        "                print(f\"the file can't be loaded: {e}\")\n",
        "        else:\n",
        "            print(\"the path is not a csv document.\")\n",
        "    else:\n",
        "        print(f\"path does't exists: {path}\")\n",
        "\n",
        "# Check path and file details\n",
        "check_path_and_file_details(DATASET_PATH)\n"
      ],
      "metadata": {
        "colab": {
          "base_uri": "https://localhost:8080/"
        },
        "id": "u0Z6PGn5SOF8",
        "outputId": "082e1e92-87b8-4f43-e4df-4a7e4c404315"
      },
      "execution_count": null,
      "outputs": [
        {
          "output_type": "stream",
          "name": "stdout",
          "text": [
            "path exists: drive/MyDrive/MSc_Project/Results/downstream/results_41lines_0.3ramdom.csv\n",
            "the file has 204 rows and 5 cols\n",
            "the name of columns are: ['Note ID', 'Original Letters', 'Processed Original Letters', 'Masked Letters', 'Generated Letters']\n"
          ]
        }
      ]
    },
    {
      "cell_type": "code",
      "source": [
        "!pip install -U spacy\n",
        "!python -m spacy download en_core_web_sm"
      ],
      "metadata": {
        "colab": {
          "base_uri": "https://localhost:8080/"
        },
        "id": "aMqmOmffSvzm",
        "outputId": "d58d4f21-5184-442b-ec21-77d20eb15b17"
      },
      "execution_count": null,
      "outputs": [
        {
          "output_type": "stream",
          "name": "stdout",
          "text": [
            "Requirement already satisfied: spacy in /usr/local/lib/python3.10/dist-packages (3.7.6)\n",
            "Requirement already satisfied: spacy-legacy<3.1.0,>=3.0.11 in /usr/local/lib/python3.10/dist-packages (from spacy) (3.0.12)\n",
            "Requirement already satisfied: spacy-loggers<2.0.0,>=1.0.0 in /usr/local/lib/python3.10/dist-packages (from spacy) (1.0.5)\n",
            "Requirement already satisfied: murmurhash<1.1.0,>=0.28.0 in /usr/local/lib/python3.10/dist-packages (from spacy) (1.0.10)\n",
            "Requirement already satisfied: cymem<2.1.0,>=2.0.2 in /usr/local/lib/python3.10/dist-packages (from spacy) (2.0.8)\n",
            "Requirement already satisfied: preshed<3.1.0,>=3.0.2 in /usr/local/lib/python3.10/dist-packages (from spacy) (3.0.9)\n",
            "Requirement already satisfied: thinc<8.3.0,>=8.2.2 in /usr/local/lib/python3.10/dist-packages (from spacy) (8.2.5)\n",
            "Requirement already satisfied: wasabi<1.2.0,>=0.9.1 in /usr/local/lib/python3.10/dist-packages (from spacy) (1.1.3)\n",
            "Requirement already satisfied: srsly<3.0.0,>=2.4.3 in /usr/local/lib/python3.10/dist-packages (from spacy) (2.4.8)\n",
            "Requirement already satisfied: catalogue<2.1.0,>=2.0.6 in /usr/local/lib/python3.10/dist-packages (from spacy) (2.0.10)\n",
            "Requirement already satisfied: weasel<0.5.0,>=0.1.0 in /usr/local/lib/python3.10/dist-packages (from spacy) (0.4.1)\n",
            "Requirement already satisfied: typer<1.0.0,>=0.3.0 in /usr/local/lib/python3.10/dist-packages (from spacy) (0.12.4)\n",
            "Requirement already satisfied: tqdm<5.0.0,>=4.38.0 in /usr/local/lib/python3.10/dist-packages (from spacy) (4.66.5)\n",
            "Requirement already satisfied: requests<3.0.0,>=2.13.0 in /usr/local/lib/python3.10/dist-packages (from spacy) (2.32.3)\n",
            "Requirement already satisfied: pydantic!=1.8,!=1.8.1,<3.0.0,>=1.7.4 in /usr/local/lib/python3.10/dist-packages (from spacy) (2.8.2)\n",
            "Requirement already satisfied: jinja2 in /usr/local/lib/python3.10/dist-packages (from spacy) (3.1.4)\n",
            "Requirement already satisfied: setuptools in /usr/local/lib/python3.10/dist-packages (from spacy) (71.0.4)\n",
            "Requirement already satisfied: packaging>=20.0 in /usr/local/lib/python3.10/dist-packages (from spacy) (24.1)\n",
            "Requirement already satisfied: langcodes<4.0.0,>=3.2.0 in /usr/local/lib/python3.10/dist-packages (from spacy) (3.4.0)\n",
            "Requirement already satisfied: numpy>=1.19.0 in /usr/local/lib/python3.10/dist-packages (from spacy) (1.26.4)\n",
            "Requirement already satisfied: language-data>=1.2 in /usr/local/lib/python3.10/dist-packages (from langcodes<4.0.0,>=3.2.0->spacy) (1.2.0)\n",
            "Requirement already satisfied: annotated-types>=0.4.0 in /usr/local/lib/python3.10/dist-packages (from pydantic!=1.8,!=1.8.1,<3.0.0,>=1.7.4->spacy) (0.7.0)\n",
            "Requirement already satisfied: pydantic-core==2.20.1 in /usr/local/lib/python3.10/dist-packages (from pydantic!=1.8,!=1.8.1,<3.0.0,>=1.7.4->spacy) (2.20.1)\n",
            "Requirement already satisfied: typing-extensions>=4.6.1 in /usr/local/lib/python3.10/dist-packages (from pydantic!=1.8,!=1.8.1,<3.0.0,>=1.7.4->spacy) (4.12.2)\n",
            "Requirement already satisfied: charset-normalizer<4,>=2 in /usr/local/lib/python3.10/dist-packages (from requests<3.0.0,>=2.13.0->spacy) (3.3.2)\n",
            "Requirement already satisfied: idna<4,>=2.5 in /usr/local/lib/python3.10/dist-packages (from requests<3.0.0,>=2.13.0->spacy) (3.7)\n",
            "Requirement already satisfied: urllib3<3,>=1.21.1 in /usr/local/lib/python3.10/dist-packages (from requests<3.0.0,>=2.13.0->spacy) (2.0.7)\n",
            "Requirement already satisfied: certifi>=2017.4.17 in /usr/local/lib/python3.10/dist-packages (from requests<3.0.0,>=2.13.0->spacy) (2024.7.4)\n",
            "Requirement already satisfied: blis<0.8.0,>=0.7.8 in /usr/local/lib/python3.10/dist-packages (from thinc<8.3.0,>=8.2.2->spacy) (0.7.11)\n",
            "Requirement already satisfied: confection<1.0.0,>=0.0.1 in /usr/local/lib/python3.10/dist-packages (from thinc<8.3.0,>=8.2.2->spacy) (0.1.5)\n",
            "Requirement already satisfied: click>=8.0.0 in /usr/local/lib/python3.10/dist-packages (from typer<1.0.0,>=0.3.0->spacy) (8.1.7)\n",
            "Requirement already satisfied: shellingham>=1.3.0 in /usr/local/lib/python3.10/dist-packages (from typer<1.0.0,>=0.3.0->spacy) (1.5.4)\n",
            "Requirement already satisfied: rich>=10.11.0 in /usr/local/lib/python3.10/dist-packages (from typer<1.0.0,>=0.3.0->spacy) (13.7.1)\n",
            "Requirement already satisfied: cloudpathlib<1.0.0,>=0.7.0 in /usr/local/lib/python3.10/dist-packages (from weasel<0.5.0,>=0.1.0->spacy) (0.18.1)\n",
            "Requirement already satisfied: smart-open<8.0.0,>=5.2.1 in /usr/local/lib/python3.10/dist-packages (from weasel<0.5.0,>=0.1.0->spacy) (7.0.4)\n",
            "Requirement already satisfied: MarkupSafe>=2.0 in /usr/local/lib/python3.10/dist-packages (from jinja2->spacy) (2.1.5)\n",
            "Requirement already satisfied: marisa-trie>=0.7.7 in /usr/local/lib/python3.10/dist-packages (from language-data>=1.2->langcodes<4.0.0,>=3.2.0->spacy) (1.2.0)\n",
            "Requirement already satisfied: markdown-it-py>=2.2.0 in /usr/local/lib/python3.10/dist-packages (from rich>=10.11.0->typer<1.0.0,>=0.3.0->spacy) (3.0.0)\n",
            "Requirement already satisfied: pygments<3.0.0,>=2.13.0 in /usr/local/lib/python3.10/dist-packages (from rich>=10.11.0->typer<1.0.0,>=0.3.0->spacy) (2.16.1)\n",
            "Requirement already satisfied: wrapt in /usr/local/lib/python3.10/dist-packages (from smart-open<8.0.0,>=5.2.1->weasel<0.5.0,>=0.1.0->spacy) (1.16.0)\n",
            "Requirement already satisfied: mdurl~=0.1 in /usr/local/lib/python3.10/dist-packages (from markdown-it-py>=2.2.0->rich>=10.11.0->typer<1.0.0,>=0.3.0->spacy) (0.1.2)\n",
            "Collecting en-core-web-sm==3.7.1\n",
            "  Downloading https://github.com/explosion/spacy-models/releases/download/en_core_web_sm-3.7.1/en_core_web_sm-3.7.1-py3-none-any.whl (12.8 MB)\n",
            "\u001b[2K     \u001b[90m━━━━━━━━━━━━━━━━━━━━━━━━━━━━━━━━━━━━━━━━\u001b[0m \u001b[32m12.8/12.8 MB\u001b[0m \u001b[31m107.7 MB/s\u001b[0m eta \u001b[36m0:00:00\u001b[0m\n",
            "\u001b[?25hRequirement already satisfied: spacy<3.8.0,>=3.7.2 in /usr/local/lib/python3.10/dist-packages (from en-core-web-sm==3.7.1) (3.7.6)\n",
            "Requirement already satisfied: spacy-legacy<3.1.0,>=3.0.11 in /usr/local/lib/python3.10/dist-packages (from spacy<3.8.0,>=3.7.2->en-core-web-sm==3.7.1) (3.0.12)\n",
            "Requirement already satisfied: spacy-loggers<2.0.0,>=1.0.0 in /usr/local/lib/python3.10/dist-packages (from spacy<3.8.0,>=3.7.2->en-core-web-sm==3.7.1) (1.0.5)\n",
            "Requirement already satisfied: murmurhash<1.1.0,>=0.28.0 in /usr/local/lib/python3.10/dist-packages (from spacy<3.8.0,>=3.7.2->en-core-web-sm==3.7.1) (1.0.10)\n",
            "Requirement already satisfied: cymem<2.1.0,>=2.0.2 in /usr/local/lib/python3.10/dist-packages (from spacy<3.8.0,>=3.7.2->en-core-web-sm==3.7.1) (2.0.8)\n",
            "Requirement already satisfied: preshed<3.1.0,>=3.0.2 in /usr/local/lib/python3.10/dist-packages (from spacy<3.8.0,>=3.7.2->en-core-web-sm==3.7.1) (3.0.9)\n",
            "Requirement already satisfied: thinc<8.3.0,>=8.2.2 in /usr/local/lib/python3.10/dist-packages (from spacy<3.8.0,>=3.7.2->en-core-web-sm==3.7.1) (8.2.5)\n",
            "Requirement already satisfied: wasabi<1.2.0,>=0.9.1 in /usr/local/lib/python3.10/dist-packages (from spacy<3.8.0,>=3.7.2->en-core-web-sm==3.7.1) (1.1.3)\n",
            "Requirement already satisfied: srsly<3.0.0,>=2.4.3 in /usr/local/lib/python3.10/dist-packages (from spacy<3.8.0,>=3.7.2->en-core-web-sm==3.7.1) (2.4.8)\n",
            "Requirement already satisfied: catalogue<2.1.0,>=2.0.6 in /usr/local/lib/python3.10/dist-packages (from spacy<3.8.0,>=3.7.2->en-core-web-sm==3.7.1) (2.0.10)\n",
            "Requirement already satisfied: weasel<0.5.0,>=0.1.0 in /usr/local/lib/python3.10/dist-packages (from spacy<3.8.0,>=3.7.2->en-core-web-sm==3.7.1) (0.4.1)\n",
            "Requirement already satisfied: typer<1.0.0,>=0.3.0 in /usr/local/lib/python3.10/dist-packages (from spacy<3.8.0,>=3.7.2->en-core-web-sm==3.7.1) (0.12.4)\n",
            "Requirement already satisfied: tqdm<5.0.0,>=4.38.0 in /usr/local/lib/python3.10/dist-packages (from spacy<3.8.0,>=3.7.2->en-core-web-sm==3.7.1) (4.66.5)\n",
            "Requirement already satisfied: requests<3.0.0,>=2.13.0 in /usr/local/lib/python3.10/dist-packages (from spacy<3.8.0,>=3.7.2->en-core-web-sm==3.7.1) (2.32.3)\n",
            "Requirement already satisfied: pydantic!=1.8,!=1.8.1,<3.0.0,>=1.7.4 in /usr/local/lib/python3.10/dist-packages (from spacy<3.8.0,>=3.7.2->en-core-web-sm==3.7.1) (2.8.2)\n",
            "Requirement already satisfied: jinja2 in /usr/local/lib/python3.10/dist-packages (from spacy<3.8.0,>=3.7.2->en-core-web-sm==3.7.1) (3.1.4)\n",
            "Requirement already satisfied: setuptools in /usr/local/lib/python3.10/dist-packages (from spacy<3.8.0,>=3.7.2->en-core-web-sm==3.7.1) (71.0.4)\n",
            "Requirement already satisfied: packaging>=20.0 in /usr/local/lib/python3.10/dist-packages (from spacy<3.8.0,>=3.7.2->en-core-web-sm==3.7.1) (24.1)\n",
            "Requirement already satisfied: langcodes<4.0.0,>=3.2.0 in /usr/local/lib/python3.10/dist-packages (from spacy<3.8.0,>=3.7.2->en-core-web-sm==3.7.1) (3.4.0)\n",
            "Requirement already satisfied: numpy>=1.19.0 in /usr/local/lib/python3.10/dist-packages (from spacy<3.8.0,>=3.7.2->en-core-web-sm==3.7.1) (1.26.4)\n",
            "Requirement already satisfied: language-data>=1.2 in /usr/local/lib/python3.10/dist-packages (from langcodes<4.0.0,>=3.2.0->spacy<3.8.0,>=3.7.2->en-core-web-sm==3.7.1) (1.2.0)\n",
            "Requirement already satisfied: annotated-types>=0.4.0 in /usr/local/lib/python3.10/dist-packages (from pydantic!=1.8,!=1.8.1,<3.0.0,>=1.7.4->spacy<3.8.0,>=3.7.2->en-core-web-sm==3.7.1) (0.7.0)\n",
            "Requirement already satisfied: pydantic-core==2.20.1 in /usr/local/lib/python3.10/dist-packages (from pydantic!=1.8,!=1.8.1,<3.0.0,>=1.7.4->spacy<3.8.0,>=3.7.2->en-core-web-sm==3.7.1) (2.20.1)\n",
            "Requirement already satisfied: typing-extensions>=4.6.1 in /usr/local/lib/python3.10/dist-packages (from pydantic!=1.8,!=1.8.1,<3.0.0,>=1.7.4->spacy<3.8.0,>=3.7.2->en-core-web-sm==3.7.1) (4.12.2)\n",
            "Requirement already satisfied: charset-normalizer<4,>=2 in /usr/local/lib/python3.10/dist-packages (from requests<3.0.0,>=2.13.0->spacy<3.8.0,>=3.7.2->en-core-web-sm==3.7.1) (3.3.2)\n",
            "Requirement already satisfied: idna<4,>=2.5 in /usr/local/lib/python3.10/dist-packages (from requests<3.0.0,>=2.13.0->spacy<3.8.0,>=3.7.2->en-core-web-sm==3.7.1) (3.7)\n",
            "Requirement already satisfied: urllib3<3,>=1.21.1 in /usr/local/lib/python3.10/dist-packages (from requests<3.0.0,>=2.13.0->spacy<3.8.0,>=3.7.2->en-core-web-sm==3.7.1) (2.0.7)\n",
            "Requirement already satisfied: certifi>=2017.4.17 in /usr/local/lib/python3.10/dist-packages (from requests<3.0.0,>=2.13.0->spacy<3.8.0,>=3.7.2->en-core-web-sm==3.7.1) (2024.7.4)\n",
            "Requirement already satisfied: blis<0.8.0,>=0.7.8 in /usr/local/lib/python3.10/dist-packages (from thinc<8.3.0,>=8.2.2->spacy<3.8.0,>=3.7.2->en-core-web-sm==3.7.1) (0.7.11)\n",
            "Requirement already satisfied: confection<1.0.0,>=0.0.1 in /usr/local/lib/python3.10/dist-packages (from thinc<8.3.0,>=8.2.2->spacy<3.8.0,>=3.7.2->en-core-web-sm==3.7.1) (0.1.5)\n",
            "Requirement already satisfied: click>=8.0.0 in /usr/local/lib/python3.10/dist-packages (from typer<1.0.0,>=0.3.0->spacy<3.8.0,>=3.7.2->en-core-web-sm==3.7.1) (8.1.7)\n",
            "Requirement already satisfied: shellingham>=1.3.0 in /usr/local/lib/python3.10/dist-packages (from typer<1.0.0,>=0.3.0->spacy<3.8.0,>=3.7.2->en-core-web-sm==3.7.1) (1.5.4)\n",
            "Requirement already satisfied: rich>=10.11.0 in /usr/local/lib/python3.10/dist-packages (from typer<1.0.0,>=0.3.0->spacy<3.8.0,>=3.7.2->en-core-web-sm==3.7.1) (13.7.1)\n",
            "Requirement already satisfied: cloudpathlib<1.0.0,>=0.7.0 in /usr/local/lib/python3.10/dist-packages (from weasel<0.5.0,>=0.1.0->spacy<3.8.0,>=3.7.2->en-core-web-sm==3.7.1) (0.18.1)\n",
            "Requirement already satisfied: smart-open<8.0.0,>=5.2.1 in /usr/local/lib/python3.10/dist-packages (from weasel<0.5.0,>=0.1.0->spacy<3.8.0,>=3.7.2->en-core-web-sm==3.7.1) (7.0.4)\n",
            "Requirement already satisfied: MarkupSafe>=2.0 in /usr/local/lib/python3.10/dist-packages (from jinja2->spacy<3.8.0,>=3.7.2->en-core-web-sm==3.7.1) (2.1.5)\n",
            "Requirement already satisfied: marisa-trie>=0.7.7 in /usr/local/lib/python3.10/dist-packages (from language-data>=1.2->langcodes<4.0.0,>=3.2.0->spacy<3.8.0,>=3.7.2->en-core-web-sm==3.7.1) (1.2.0)\n",
            "Requirement already satisfied: markdown-it-py>=2.2.0 in /usr/local/lib/python3.10/dist-packages (from rich>=10.11.0->typer<1.0.0,>=0.3.0->spacy<3.8.0,>=3.7.2->en-core-web-sm==3.7.1) (3.0.0)\n",
            "Requirement already satisfied: pygments<3.0.0,>=2.13.0 in /usr/local/lib/python3.10/dist-packages (from rich>=10.11.0->typer<1.0.0,>=0.3.0->spacy<3.8.0,>=3.7.2->en-core-web-sm==3.7.1) (2.16.1)\n",
            "Requirement already satisfied: wrapt in /usr/local/lib/python3.10/dist-packages (from smart-open<8.0.0,>=5.2.1->weasel<0.5.0,>=0.1.0->spacy<3.8.0,>=3.7.2->en-core-web-sm==3.7.1) (1.16.0)\n",
            "Requirement already satisfied: mdurl~=0.1 in /usr/local/lib/python3.10/dist-packages (from markdown-it-py>=2.2.0->rich>=10.11.0->typer<1.0.0,>=0.3.0->spacy<3.8.0,>=3.7.2->en-core-web-sm==3.7.1) (0.1.2)\n",
            "\u001b[38;5;2m✔ Download and installation successful\u001b[0m\n",
            "You can now load the package via spacy.load('en_core_web_sm')\n",
            "\u001b[38;5;3m⚠ Restart to reload dependencies\u001b[0m\n",
            "If you are in a Jupyter or Colab notebook, you may need to restart Python in\n",
            "order to load all the package's dependencies. You can do this by selecting the\n",
            "'Restart kernel' or 'Restart runtime' option.\n"
          ]
        }
      ]
    },
    {
      "cell_type": "code",
      "source": [
        "import spacy\n",
        "nlp = spacy.load(\"en_core_web_sm\")\n",
        "\n",
        "# load the custom NER model\n",
        "nlp_scispacy = spacy.load(model_path)\n",
        "print(\"The custom NER model has been loaded successfully.\")"
      ],
      "metadata": {
        "colab": {
          "base_uri": "https://localhost:8080/"
        },
        "id": "iY8FFIJKSzGD",
        "outputId": "7db5b845-6507-487c-fc66-6d48d292a894"
      },
      "execution_count": null,
      "outputs": [
        {
          "output_type": "stream",
          "name": "stderr",
          "text": [
            "/usr/local/lib/python3.10/dist-packages/spacy/language.py:2195: FutureWarning: Possible set union at position 6328\n",
            "  deserializers[\"tokenizer\"] = lambda p: self.tokenizer.from_disk(  # type: ignore[union-attr]\n"
          ]
        },
        {
          "output_type": "stream",
          "name": "stdout",
          "text": [
            "The custom NER model has been loaded successfully.\n"
          ]
        }
      ]
    },
    {
      "cell_type": "markdown",
      "source": [
        "## Entities extraction with SciSpacy"
      ],
      "metadata": {
        "id": "s_0ZUQ-0TGRu"
      }
    },
    {
      "cell_type": "code",
      "source": [
        "def generate_annotation(texts):\n",
        "    annotations = []\n",
        "    for text in texts:\n",
        "        doc = nlp_scispacy(text)\n",
        "        entities = []\n",
        "        for ent in doc.ents:\n",
        "            entities.append((ent.start_char, ent.end_char, ent.label_, ent.text))\n",
        "        annotations.append({'text': text, 'entities': entities})\n",
        "    return annotations"
      ],
      "metadata": {
        "id": "x2rMqcfuTN16"
      },
      "execution_count": null,
      "outputs": []
    },
    {
      "cell_type": "code",
      "source": [
        "df = pd.read_csv(DATASET_PATH)\n",
        "\n",
        "# Generate annotations using scispacy\n",
        "original_annotations = generate_annotation(df['Original Letters'].tolist())\n",
        "synthetic_annotations = generate_annotation(df['Generated Letters'].tolist())\n",
        "\n",
        "# Split in Train, Validation and Testing sets\n",
        "# Original annotation splits (70/10/20)\n",
        "train_idx, valid_idx = int(0.70 * len(original_annotations)), int(0.80 * len(original_annotations))\n",
        "original_annotations_train = original_annotations[:train_idx]\n",
        "original_annotations_valid = original_annotations[train_idx:valid_idx]\n",
        "original_annotations_test = original_annotations[valid_idx:]\n",
        "\n",
        "# Synthetic annotation splits (70/10/20)\n",
        "train_idx, valid_idx = int(0.70 * len(synthetic_annotations)), int(0.80 * len(synthetic_annotations))\n",
        "synthetic_annotations_train = synthetic_annotations[:train_idx]\n",
        "synthetic_annotations_valid = synthetic_annotations[train_idx:valid_idx]\n",
        "synthetic_annotations_test = synthetic_annotations[valid_idx:]"
      ],
      "metadata": {
        "id": "r9IqKxOhTU7D"
      },
      "execution_count": null,
      "outputs": []
    },
    {
      "cell_type": "code",
      "source": [
        "# Print the size of each dataset segment\n",
        "print(\"Original Annotations Train Size:\", len(original_annotations_train))\n",
        "print(\"Original Annotations Validation Size:\", len(original_annotations_valid))\n",
        "print(\"Original Annotations Test Size:\", len(original_annotations_test))\n",
        "\n",
        "print(\"Synthetic Annotations Train Size:\", len(synthetic_annotations_train))\n",
        "print(\"Synthetic Annotations Validation Size:\", len(synthetic_annotations_valid))\n",
        "print(\"Synthetic Annotations Test Size:\", len(synthetic_annotations_test))\n"
      ],
      "metadata": {
        "colab": {
          "base_uri": "https://localhost:8080/"
        },
        "id": "xnQYRH-VTZAC",
        "outputId": "fb84291f-065e-4407-f8e9-8a734549c897"
      },
      "execution_count": null,
      "outputs": [
        {
          "output_type": "stream",
          "name": "stdout",
          "text": [
            "Original Annotations Train Size: 142\n",
            "Original Annotations Validation Size: 21\n",
            "Original Annotations Test Size: 41\n",
            "Synthetic Annotations Train Size: 142\n",
            "Synthetic Annotations Validation Size: 21\n",
            "Synthetic Annotations Test Size: 41\n"
          ]
        }
      ]
    },
    {
      "cell_type": "markdown",
      "source": [
        "### Fine-tune Spacy on Original vs Synthetic letters"
      ],
      "metadata": {
        "id": "vxZDt2tPT4nR"
      }
    },
    {
      "cell_type": "code",
      "source": [
        "from spacy.tokens import DocBin\n",
        "from tqdm import tqdm\n",
        "from spacy.util import filter_spans\n",
        "nlp_blank = spacy.blank('en')"
      ],
      "metadata": {
        "colab": {
          "base_uri": "https://localhost:8080/"
        },
        "id": "cHu5cX7eT8RF",
        "outputId": "31b5932e-2ed2-4d8f-80a9-2c53a12b271f"
      },
      "execution_count": null,
      "outputs": [
        {
          "output_type": "stream",
          "name": "stderr",
          "text": [
            "/usr/local/lib/python3.10/dist-packages/spacy/util.py:1740: UserWarning: [W111] Jupyter notebook detected: if using `prefer_gpu()` or `require_gpu()`, include it in the same cell right before `spacy.load()` to ensure that the model is loaded on the correct device. More information: http://spacy.io/usage/v3#jupyter-notebook-gpu\n",
            "  warnings.warn(Warnings.W111)\n"
          ]
        }
      ]
    },
    {
      "cell_type": "code",
      "source": [
        "def training_data_to_docBin(training_data, nlp):\n",
        "    doc_bin = DocBin()\n",
        "    for training_example in tqdm(training_data):\n",
        "        text = training_example['text']\n",
        "        labels = training_example['entities']\n",
        "        doc = nlp.make_doc(text)\n",
        "        ents = []\n",
        "        for start, end, label, _ in labels:\n",
        "            span = doc.char_span(start, end, label=label, alignment_mode=\"contract\")\n",
        "            if span is not None:\n",
        "                ents.append(span)\n",
        "        doc.ents = filter_spans(ents)  # Filter overlapping entities\n",
        "        doc_bin.add(doc)\n",
        "    return doc_bin\n"
      ],
      "metadata": {
        "id": "I5C95uPKT_EY"
      },
      "execution_count": null,
      "outputs": []
    },
    {
      "cell_type": "code",
      "source": [
        "original_train_docbin = training_data_to_docBin(original_annotations_train, nlp_blank)\n",
        "original_valid_docbin = training_data_to_docBin(original_annotations_valid, nlp_blank)\n",
        "original_test_docbin = training_data_to_docBin(original_annotations_test, nlp_blank)\n",
        "\n",
        "synthetic_train_docbin = training_data_to_docBin(synthetic_annotations_train, nlp_blank)\n",
        "synthetic_valid_docbin = training_data_to_docBin(synthetic_annotations_valid, nlp_blank)\n",
        "synthetic_test_docbin = training_data_to_docBin(synthetic_annotations_test, nlp_blank)\n"
      ],
      "metadata": {
        "colab": {
          "base_uri": "https://localhost:8080/"
        },
        "id": "GbSSTDT8UTnH",
        "outputId": "92c77816-6e12-4ddd-800e-ba3922320611"
      },
      "execution_count": null,
      "outputs": [
        {
          "output_type": "stream",
          "name": "stderr",
          "text": [
            "100%|██████████| 142/142 [00:04<00:00, 34.55it/s]\n",
            "100%|██████████| 21/21 [00:00<00:00, 36.43it/s]\n",
            "100%|██████████| 41/41 [00:01<00:00, 34.78it/s]\n",
            "100%|██████████| 142/142 [00:05<00:00, 28.14it/s]\n",
            "100%|██████████| 21/21 [00:00<00:00, 41.73it/s]\n",
            "100%|██████████| 41/41 [00:01<00:00, 37.83it/s]\n"
          ]
        }
      ]
    },
    {
      "cell_type": "code",
      "source": [
        "original_train_docbin.to_disk(\"original_annotations_train.spacy\")\n",
        "original_valid_docbin.to_disk(\"original_annotations_valid.spacy\")\n",
        "original_test_docbin.to_disk(\"original_annotations_test.spacy\")\n",
        "\n",
        "synthetic_train_docbin.to_disk(\"synthetic_annotations_train.spacy\")\n",
        "synthetic_valid_docbin.to_disk(\"synthetic_annotations_valid.spacy\")\n",
        "synthetic_test_docbin.to_disk(\"synthetic_annotations_test.spacy\")\n"
      ],
      "metadata": {
        "id": "56gZ6K9UUZT5"
      },
      "execution_count": null,
      "outputs": []
    },
    {
      "cell_type": "markdown",
      "source": [
        "#### On original letters"
      ],
      "metadata": {
        "id": "h6wl8TbZUcT2"
      }
    },
    {
      "cell_type": "code",
      "source": [
        "BASE_CONFIG_PATH = f'{REPO_PATH}/SpacyConfig/base_config.cfg'"
      ],
      "metadata": {
        "id": "hGSFEU8bUdBV"
      },
      "execution_count": null,
      "outputs": []
    },
    {
      "cell_type": "code",
      "source": [
        "!python -m spacy init config --lang en --pipeline ner {BASE_CONFIG_PATH}"
      ],
      "metadata": {
        "colab": {
          "base_uri": "https://localhost:8080/"
        },
        "id": "e52FbrY8UiZa",
        "outputId": "9631d7f5-3ccf-4b25-b1c4-da63921bb470"
      },
      "execution_count": null,
      "outputs": [
        {
          "output_type": "stream",
          "name": "stdout",
          "text": [
            "\n",
            "\u001b[38;5;1m✘ The provided output file already exists. To force overwriting the\n",
            "config file, set the --force or -F flag.\u001b[0m\n",
            "\n"
          ]
        }
      ]
    },
    {
      "cell_type": "code",
      "source": [
        "OUTPUT_CONFIG_PATH = f'{REPO_PATH}/SpacyConfig/full_config.cfg'  # The full path to the output configuration file\n",
        "\n",
        "# Filling in the full configuration file using SpaCy\n",
        "!python -m spacy init fill-config {BASE_CONFIG_PATH} {OUTPUT_CONFIG_PATH}\n"
      ],
      "metadata": {
        "colab": {
          "base_uri": "https://localhost:8080/"
        },
        "id": "ipcUD4gJUlcn",
        "outputId": "3e1f3782-1d98-467e-c656-5c6a665299d0"
      },
      "execution_count": null,
      "outputs": [
        {
          "output_type": "stream",
          "name": "stdout",
          "text": [
            "\u001b[38;5;3m⚠ Nothing to auto-fill: base config is already complete\u001b[0m\n",
            "\u001b[38;5;2m✔ Saved config\u001b[0m\n",
            "drive/MyDrive/MSc_Project/SpacyConfig/full_config.cfg\n",
            "You can now add your data and train your pipeline:\n",
            "python -m spacy train full_config.cfg --paths.train ./train.spacy --paths.dev ./dev.spacy\n"
          ]
        }
      ]
    },
    {
      "cell_type": "code",
      "source": [
        "!python -m spacy train {OUTPUT_CONFIG_PATH} --output ./spacy_ft/on_original --paths.train ./original_annotations_train.spacy --paths.dev ./original_annotations_valid.spacy\n"
      ],
      "metadata": {
        "colab": {
          "base_uri": "https://localhost:8080/"
        },
        "id": "GSftRxrzUptE",
        "outputId": "20554a1d-db7b-4e0e-b257-296c85ba7fa5"
      },
      "execution_count": null,
      "outputs": [
        {
          "output_type": "stream",
          "name": "stdout",
          "text": [
            "\u001b[38;5;2m✔ Created output directory: spacy_ft/on_original\u001b[0m\n",
            "\u001b[38;5;4mℹ Saving to output directory: spacy_ft/on_original\u001b[0m\n",
            "\u001b[38;5;4mℹ Using CPU\u001b[0m\n",
            "\u001b[38;5;4mℹ To switch to GPU 0, use the option: --gpu-id 0\u001b[0m\n",
            "\u001b[1m\n",
            "=========================== Initializing pipeline ===========================\u001b[0m\n",
            "\u001b[38;5;2m✔ Initialized pipeline\u001b[0m\n",
            "\u001b[1m\n",
            "============================= Training pipeline =============================\u001b[0m\n",
            "\u001b[38;5;4mℹ Pipeline: ['tok2vec', 'ner']\u001b[0m\n",
            "\u001b[38;5;4mℹ Initial learn rate: 0.001\u001b[0m\n",
            "E    #       LOSS TOK2VEC  LOSS NER  ENTS_F  ENTS_P  ENTS_R  SCORE \n",
            "---  ------  ------------  --------  ------  ------  ------  ------\n",
            "  0       0          0.00    819.40    1.02    1.28    0.85    0.01\n",
            "  1     200       5744.58  36326.39   80.17   82.57   77.90    0.80\n",
            "  2     400        999.68   8361.98   84.58   86.90   82.38    0.85\n",
            "  4     600       2371.48   5931.46   86.70   87.58   85.84    0.87\n",
            "  5     800       1027.28   4382.35   87.51   90.19   84.98    0.88\n",
            "  7    1000       1349.77   3829.09   85.34   86.09   84.62    0.85\n",
            "  8    1200       1072.11   3081.98   86.35   87.51   85.23    0.86\n",
            "  9    1400       1084.74   2754.67   87.28   88.46   86.12    0.87\n",
            " 11    1600       1557.09   2333.74   86.50   88.47   84.62    0.86\n",
            " 12    1800        959.45   1975.99   86.86   89.40   84.45    0.87\n",
            " 14    2000       1073.21   1958.87   87.39   88.35   86.45    0.87\n",
            " 15    2200       1070.28   1673.34   87.56   88.03   87.10    0.88\n",
            " 16    2400        980.77   1473.08   87.24   87.80   86.69    0.87\n",
            " 18    2600       1042.81   1535.83   87.56   89.57   85.63    0.88\n",
            " 19    2800       1210.12   1421.84   87.28   86.34   88.24    0.87\n",
            " 21    3000       1015.85   1250.50   87.68   89.39   86.04    0.88\n",
            " 22    3200       1024.15   1168.87   87.55   89.64   85.55    0.88\n",
            " 23    3400       1209.94   1181.08   87.62   88.43   86.81    0.88\n",
            " 25    3600        990.93    994.32   87.57   89.82   85.43    0.88\n",
            " 26    3800       1032.70   1025.19   87.78   89.51   86.12    0.88\n",
            " 28    4000        953.26    975.20   87.73   88.92   86.57    0.88\n",
            " 29    4200        923.44    903.06   87.99   89.11   86.89    0.88\n",
            " 30    4400        939.03    887.50   88.18   89.55   86.85    0.88\n",
            " 32    4600       1076.80    836.88   86.96   87.48   86.45    0.87\n",
            " 33    4800       1199.33    815.61   87.54   89.19   85.96    0.88\n",
            " 35    5000       1193.11    731.30   87.00   88.67   85.39    0.87\n",
            " 36    5200       1285.38    764.74   87.70   89.12   86.32    0.88\n",
            " 38    5400       1702.92    724.49   87.87   89.70   86.12    0.88\n",
            " 39    5600       1495.24    654.34   87.34   88.08   86.61    0.87\n",
            " 40    5800       1085.53    642.60   87.54   89.81   85.39    0.88\n",
            " 42    6000       1273.07    651.46   87.46   89.55   85.47    0.87\n",
            "\u001b[38;5;2m✔ Saved pipeline to output directory\u001b[0m\n",
            "spacy_ft/on_original/model-last\n"
          ]
        }
      ]
    },
    {
      "cell_type": "code",
      "source": [
        "# Load the best trained model\n",
        "nlp_spacy_on_original = spacy.load(\"./spacy_ft/on_original/model-best\")\n"
      ],
      "metadata": {
        "id": "Tf2cPE23WJRc"
      },
      "execution_count": null,
      "outputs": []
    },
    {
      "cell_type": "code",
      "source": [
        "from spacy.training import Example\n",
        "\n",
        "original_examples = []\n",
        "for sample in original_annotations_test:\n",
        "    text = sample['text']  # Get text from the test set\n",
        "    annotations = [ent[:3] for ent in sample['entities']]  # Extract entity start, end position and label\n",
        "    prediction = nlp_spacy_on_original(text)  # Using the model in predictions\n",
        "    # Create an Example object to pair the prediction results with the true annotations\n",
        "    example = Example.from_dict(prediction, {'entities': annotations})\n",
        "    original_examples.append(example)"
      ],
      "metadata": {
        "id": "tw3Kyb8yWRt8"
      },
      "execution_count": null,
      "outputs": []
    },
    {
      "cell_type": "code",
      "source": [
        "from spacy.scorer import Scorer\n",
        "\n",
        "scorer = Scorer()\n",
        "\n",
        "# Use the Scorer to evaluate all test cases\n",
        "original_scores = scorer.score(original_examples)\n",
        "\n",
        "# print evaluation metrics\n",
        "original_scores = {\n",
        "    'f-score': round(original_scores['ents_f'], 3),\n",
        "    'precision': round(original_scores['ents_p'], 3),\n",
        "    'recall': round(original_scores['ents_r'], 3),\n",
        "}\n",
        "\n",
        "print('Original scores:', original_scores)\n"
      ],
      "metadata": {
        "colab": {
          "base_uri": "https://localhost:8080/"
        },
        "id": "BHVZC4DfWTtY",
        "outputId": "ced4092e-504c-4a05-c371-6731b150d898"
      },
      "execution_count": null,
      "outputs": [
        {
          "output_type": "stream",
          "name": "stdout",
          "text": [
            "Original scores: {'f-score': 0.855, 'precision': 0.865, 'recall': 0.846}\n"
          ]
        }
      ]
    },
    {
      "cell_type": "code",
      "source": [
        "import os\n",
        "\n",
        "# create log directory If it does not exist,\n",
        "log_dir = '/content/drive/MyDrive/MSc_Project/logs'\n",
        "os.makedirs(log_dir, exist_ok=True)\n",
        "\n",
        "log_file_path = os.path.join(log_dir, 'best_model_test_results.txt')  # Define the log file path\n"
      ],
      "metadata": {
        "id": "HSoSNqE8W3UK"
      },
      "execution_count": null,
      "outputs": []
    },
    {
      "cell_type": "code",
      "source": [
        "# Save the evaluation results to a log file\n",
        "with open(log_file_path, 'a') as f:\n",
        "    f.write('Downstream NER (Spacy trained on Original letters):\\n')\n",
        "    f.write(',\\n'.join([f'\\t{key}={value}' for key, value in original_scores.items()]) + '.\\n')\n"
      ],
      "metadata": {
        "id": "hqhnEZcNYhUM"
      },
      "execution_count": null,
      "outputs": []
    },
    {
      "cell_type": "markdown",
      "source": [
        "#### On synthetic letters"
      ],
      "metadata": {
        "id": "MfMSrENjbBSE"
      }
    },
    {
      "cell_type": "code",
      "source": [
        "OUTPUT_CONFIG_PATH = f'{REPO_PATH}/SpacyConfig/full_config.cfg'  # Output the full path to the configuration file\n",
        "\n",
        "# Filling in the full configuration file using SpaCy\n",
        "!python -m spacy init fill-config {BASE_CONFIG_PATH} {OUTPUT_CONFIG_PATH}\n"
      ],
      "metadata": {
        "colab": {
          "base_uri": "https://localhost:8080/"
        },
        "id": "1yP0s3zCbFD8",
        "outputId": "66c8dc0f-7cbd-45e0-eb13-49ea3a755a2b"
      },
      "execution_count": null,
      "outputs": [
        {
          "output_type": "stream",
          "name": "stdout",
          "text": [
            "\u001b[38;5;3m⚠ Nothing to auto-fill: base config is already complete\u001b[0m\n",
            "\u001b[38;5;2m✔ Saved config\u001b[0m\n",
            "drive/MyDrive/MSc_Project/SpacyConfig/full_config.cfg\n",
            "You can now add your data and train your pipeline:\n",
            "python -m spacy train full_config.cfg --paths.train ./train.spacy --paths.dev ./dev.spacy\n"
          ]
        }
      ]
    },
    {
      "cell_type": "code",
      "source": [
        "!python -m spacy train {OUTPUT_CONFIG_PATH} --output ./spacy_ft/on_synthetic --paths.train ./synthetic_annotations_train.spacy --paths.dev ./synthetic_annotations_valid.spacy\n"
      ],
      "metadata": {
        "colab": {
          "base_uri": "https://localhost:8080/"
        },
        "id": "G8JiFkBUbIk-",
        "outputId": "97d512ad-2c5e-4f09-bcf2-d07b85e7460f"
      },
      "execution_count": null,
      "outputs": [
        {
          "output_type": "stream",
          "name": "stdout",
          "text": [
            "\u001b[38;5;2m✔ Created output directory: spacy_ft/on_synthetic\u001b[0m\n",
            "\u001b[38;5;4mℹ Saving to output directory: spacy_ft/on_synthetic\u001b[0m\n",
            "\u001b[38;5;4mℹ Using CPU\u001b[0m\n",
            "\u001b[38;5;4mℹ To switch to GPU 0, use the option: --gpu-id 0\u001b[0m\n",
            "\u001b[1m\n",
            "=========================== Initializing pipeline ===========================\u001b[0m\n",
            "\u001b[38;5;2m✔ Initialized pipeline\u001b[0m\n",
            "\u001b[1m\n",
            "============================= Training pipeline =============================\u001b[0m\n",
            "\u001b[38;5;4mℹ Pipeline: ['tok2vec', 'ner']\u001b[0m\n",
            "\u001b[38;5;4mℹ Initial learn rate: 0.001\u001b[0m\n",
            "E    #       LOSS TOK2VEC  LOSS NER  ENTS_F  ENTS_P  ENTS_R  SCORE \n",
            "---  ------  ------------  --------  ------  ------  ------  ------\n",
            "  0       0          0.00    824.00    0.78    0.50    1.68    0.01\n",
            "  1     200       6807.06  36114.96   81.25   84.68   78.09    0.81\n",
            "  2     400        960.92   8501.67   84.82   86.90   82.84    0.85\n",
            "  4     600       1004.50   5895.38   86.41   88.12   84.77    0.86\n",
            "  5     800       1012.97   4491.71   87.06   88.49   85.67    0.87\n",
            "  7    1000        855.55   3728.69   86.51   89.11   84.07    0.87\n",
            "  8    1200       1172.10   3058.01   87.22   89.14   85.38    0.87\n",
            "  9    1400        907.69   2732.14   87.17   87.40   86.94    0.87\n",
            " 11    1600       1203.77   2318.42   86.69   86.29   87.10    0.87\n",
            " 12    1800        934.05   2090.11   86.56   88.26   84.93    0.87\n",
            " 14    2000       1150.09   1950.77   87.31   88.01   86.61    0.87\n",
            " 15    2200        801.92   1723.94   87.05   87.80   86.32    0.87\n",
            " 16    2400        855.87   1554.56   86.72   87.36   86.08    0.87\n",
            " 18    2600       1555.46   1610.42   87.69   89.06   86.36    0.88\n",
            " 19    2800        824.72   1386.32   86.64   87.67   85.63    0.87\n",
            " 21    3000       4716.13   1323.20   87.05   87.54   86.57    0.87\n",
            " 22    3200        936.68   1291.21   87.20   89.10   85.38    0.87\n",
            " 23    3400      20449.31   1226.48   86.66   87.39   85.95    0.87\n",
            " 25    3600        897.10   1053.70   86.52   88.62   84.52    0.87\n",
            " 26    3800        820.91    958.28   86.87   87.59   86.16    0.87\n",
            " 28    4000        888.45    993.77   87.84   89.19   86.53    0.88\n",
            " 29    4200       1041.92   1001.55   87.56   88.83   86.32    0.88\n",
            " 30    4400        904.23    799.58   87.46   88.54   86.40    0.87\n",
            " 32    4600       1021.17    826.76   87.48   88.55   86.45    0.87\n",
            " 33    4800       1218.95    904.62   87.76   88.77   86.77    0.88\n",
            " 35    5000       1135.87    759.95   87.09   88.13   86.08    0.87\n",
            " 36    5200        860.39    727.03   87.02   87.15   86.90    0.87\n",
            " 38    5400        980.21    806.83   86.88   89.14   84.73    0.87\n",
            " 39    5600        978.51    758.89   87.05   88.56   85.59    0.87\n",
            "\u001b[38;5;2m✔ Saved pipeline to output directory\u001b[0m\n",
            "spacy_ft/on_synthetic/model-last\n"
          ]
        }
      ]
    },
    {
      "cell_type": "code",
      "source": [
        "# Load the best model\n",
        "nlp_spacy_on_synthetic = spacy.load(\"./spacy_ft/on_synthetic/model-best\")\n"
      ],
      "metadata": {
        "id": "BYT5YVLUbM26"
      },
      "execution_count": null,
      "outputs": []
    },
    {
      "cell_type": "code",
      "source": [
        "from spacy.training import Example\n",
        "\n",
        "synthetic_examples = []\n",
        "for sample in synthetic_annotations_test:\n",
        "    text = sample['text']  # Gets text from the testset\n",
        "    annotations = [ent[:3] for ent in sample['entities']]  # Extracts the start, end, and label of the entity\n",
        "    prediction = nlp_spacy_on_synthetic(text)  # use the model for prediction\n",
        "    # Create an Example object to pair the predicted result with the real annotation\n",
        "    example = Example.from_dict(prediction, {'entities': annotations})\n",
        "    synthetic_examples.append(example)"
      ],
      "metadata": {
        "id": "Bs-w-8zId2OC"
      },
      "execution_count": null,
      "outputs": []
    },
    {
      "cell_type": "code",
      "source": [
        "from spacy.scorer import Scorer\n",
        "\n",
        "scorer = Scorer()\n",
        "\n",
        "# Evaluate all test samples using Scorer\n",
        "synthetic_scores = scorer.score(synthetic_examples)\n",
        "\n",
        "# print the evaluation metrics\n",
        "synthetic_scores = {\n",
        "    'f-score': round(synthetic_scores['ents_f'], 3),\n",
        "    'precision': round(synthetic_scores['ents_p'], 3),\n",
        "    'recall': round(synthetic_scores['ents_r'], 3),\n",
        "}\n",
        "\n",
        "print('synthetic scores:', synthetic_scores)\n"
      ],
      "metadata": {
        "colab": {
          "base_uri": "https://localhost:8080/"
        },
        "id": "Iv5WrjJgeSG_",
        "outputId": "ca6a5d65-ddf9-4708-fbb6-496fae3d2875"
      },
      "execution_count": null,
      "outputs": [
        {
          "output_type": "stream",
          "name": "stdout",
          "text": [
            "synthetic scores: {'f-score': 0.853, 'precision': 0.863, 'recall': 0.843}\n"
          ]
        }
      ]
    },
    {
      "cell_type": "code",
      "source": [
        "import os\n",
        "\n",
        "# create log directory If it does not exist,\n",
        "log_dir = '/content/drive/MyDrive/MSc_Project/logs'\n",
        "os.makedirs(log_dir, exist_ok=True)\n",
        "\n",
        "log_file_path = os.path.join(log_dir, 'best_model_test_results.txt')  # Define the log file path\n"
      ],
      "metadata": {
        "id": "auAv8Ewmgmsd"
      },
      "execution_count": null,
      "outputs": []
    },
    {
      "cell_type": "code",
      "source": [
        "# save the evaluation results\n",
        "with open(log_file_path, 'a') as f:\n",
        "    f.write('Downstream NER (Spacy trained on synthetic letters):\\n')\n",
        "    f.write(',\\n'.join([f'\\t{key}={value}' for key, value in synthetic_scores.items()]) + '.\\n')\n"
      ],
      "metadata": {
        "id": "hCmXvgzGgoe4"
      },
      "execution_count": null,
      "outputs": []
    },
    {
      "cell_type": "markdown",
      "source": [
        "# Close runtime (save compute units)"
      ],
      "metadata": {
        "id": "RMn7_7YYg7tZ"
      }
    },
    {
      "cell_type": "code",
      "source": [
        "# Close google colab runtime to save credits\n",
        "from google.colab import runtime\n",
        "runtime.unassign()"
      ],
      "metadata": {
        "id": "-wlVU_o7g1WX"
      },
      "execution_count": null,
      "outputs": []
    }
  ]
}